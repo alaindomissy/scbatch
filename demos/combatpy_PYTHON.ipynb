{
 "cells": [
  {
   "cell_type": "code",
   "execution_count": null,
   "metadata": {
    "collapsed": true,
    "scrolled": true
   },
   "outputs": [],
   "source": [
    "# /opt/conda/envs/combatpy/bin/python: No module named ipykernel_launcher\n",
    "# [W 16:38:18.437 NotebookApp] Timeout waiting for kernel_info reply from b2d1699a-a84b-455e-a8b4-9b18b1825443\n"
   ]
  }
 ],
 "metadata": {
  "kernelspec": {
   "display_name": "combatpy Combatting batch effects when combining batches of gene expression microarray data v0.0.20170804 python3.6.2",
   "language": "python",
   "name": "combatpy_python"
  }
 },
 "nbformat": 4,
 "nbformat_minor": 2
}
