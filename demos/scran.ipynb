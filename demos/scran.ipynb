{
 "cells": [
  {
   "cell_type": "code",
   "execution_count": 1,
   "metadata": {},
   "outputs": [
    {
     "data": {},
     "metadata": {},
     "output_type": "display_data"
    }
   ],
   "source": [
    "library()"
   ]
  },
  {
   "cell_type": "code",
   "execution_count": 4,
   "metadata": {},
   "outputs": [
    {
     "name": "stderr",
     "output_type": "stream",
     "text": [
      "Loading required package: Biobase\n",
      "Loading required package: BiocGenerics\n",
      "Loading required package: parallel\n",
      "\n",
      "Attaching package: 'BiocGenerics'\n",
      "\n",
      "The following objects are masked from 'package:parallel':\n",
      "\n",
      "    clusterApply, clusterApplyLB, clusterCall, clusterEvalQ,\n",
      "    clusterExport, clusterMap, parApply, parCapply, parLapply,\n",
      "    parLapplyLB, parRapply, parSapply, parSapplyLB\n",
      "\n",
      "The following objects are masked from 'package:stats':\n",
      "\n",
      "    IQR, mad, xtabs\n",
      "\n",
      "The following objects are masked from 'package:base':\n",
      "\n",
      "    Filter, Find, Map, Position, Reduce, anyDuplicated, append,\n",
      "    as.data.frame, cbind, colnames, do.call, duplicated, eval, evalq,\n",
      "    get, grep, grepl, intersect, is.unsorted, lapply, lengths, mapply,\n",
      "    match, mget, order, paste, pmax, pmax.int, pmin, pmin.int, rank,\n",
      "    rbind, rownames, sapply, setdiff, sort, table, tapply, union,\n",
      "    unique, unsplit, which, which.max, which.min\n",
      "\n",
      "Welcome to Bioconductor\n",
      "\n",
      "    Vignettes contain introductory material; view with\n",
      "    'browseVignettes()'. To cite Bioconductor, see\n",
      "    'citation(\"Biobase\")', and for packages 'citation(\"pkgname\")'.\n",
      "\n",
      "Loading required package: ggplot2\n",
      "\n",
      "Attaching package: 'scater'\n",
      "\n",
      "The following object is masked from 'package:stats':\n",
      "\n",
      "    filter\n",
      "\n"
     ]
    }
   ],
   "source": [
    "library(scater)"
   ]
  },
  {
   "cell_type": "code",
   "execution_count": 2,
   "metadata": {},
   "outputs": [
    {
     "name": "stderr",
     "output_type": "stream",
     "text": [
      "Loading required package: knitr\n",
      "Warning message in library(package, lib.loc = lib.loc, character.only = TRUE, logical.return = TRUE, :\n",
      "\"there is no package called 'knitr'\""
     ]
    },
    {
     "ename": "ERROR",
     "evalue": "Error in eval(expr, envir, enclos): object 'opts_chunk' not found\n",
     "output_type": "error",
     "traceback": [
      "Error in eval(expr, envir, enclos): object 'opts_chunk' not found\nTraceback:\n"
     ]
    }
   ],
   "source": [
    "## ---- echo=FALSE, results=\"hide\", message=FALSE--------------------------\n",
    "require(knitr)\n",
    "opts_chunk$set(error=FALSE, message=FALSE, warning=FALSE)\n",
    "\n",
    "## ----style, echo=FALSE, results='asis'-----------------------------------\n",
    "BiocStyle::markdown()\n",
    "\n",
    "## ----setup, echo=FALSE, message=FALSE------------------------------------\n",
    "library(scran)\n",
    "set.seed(100)\n",
    "\n",
    "## ------------------------------------------------------------------------\n",
    "ngenes <- 10000\n",
    "ncells <- 200\n",
    "mu <- 2^runif(ngenes, 3, 10)\n",
    "gene.counts <- matrix(rnbinom(ngenes*ncells, mu=mu, size=2), nrow=ngenes)\n",
    "\n",
    "## ------------------------------------------------------------------------\n",
    "library(org.Mm.eg.db)\n",
    "all.ensembl <- unique(toTable(org.Mm.egENSEMBL)$ensembl_id)\n",
    "rownames(gene.counts) <- sample(all.ensembl, ngenes)\n",
    "\n",
    "## ------------------------------------------------------------------------\n",
    "nspikes <- 100\n",
    "ncells <- 200\n",
    "mu <- 2^runif(nspikes, 3, 10)\n",
    "spike.counts <- matrix(rnbinom(nspikes*ncells, mu=mu, size=2), nrow=nspikes)\n",
    "rownames(spike.counts) <- paste0(\"ERCC-\", seq_len(nspikes))\n",
    "all.counts <- rbind(gene.counts, spike.counts)\n",
    "\n",
    "## ------------------------------------------------------------------------\n",
    "library(scran)\n",
    "sce <- new"
   ]
  },
  {
   "cell_type": "code",
   "execution_count": 3,
   "metadata": {},
   "outputs": [
    {
     "ename": "ERROR",
     "evalue": "Error in library(scran): there is no package called 'scran'\n",
     "output_type": "error",
     "traceback": [
      "Error in library(scran): there is no package called 'scran'\nTraceback:\n",
      "1. library(scran)",
      "2. stop(txt, domain = NA)"
     ]
    }
   ],
   "source": [
    "library(scran)"
   ]
  },
  {
   "cell_type": "code",
   "execution_count": null,
   "metadata": {
    "collapsed": true
   },
   "outputs": [],
   "source": []
  }
 ],
 "metadata": {
  "kernelspec": {
   "display_name": "scran_Implements_a_variety_of_low-level_analyses_of_single-cell_RNA-seq_data_v1.4.5_r3.3.2",
   "language": "R",
   "name": "scran_r"
  },
  "language_info": {
   "codemirror_mode": "r",
   "file_extension": ".r",
   "mimetype": "text/x-r-source",
   "name": "R",
   "pygments_lexer": "r",
   "version": "3.3.2"
  }
 },
 "nbformat": 4,
 "nbformat_minor": 2
}
