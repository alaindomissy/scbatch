{
 "cells": [
  {
   "cell_type": "code",
   "execution_count": 1,
   "metadata": {},
   "outputs": [
    {
     "data": {},
     "metadata": {},
     "output_type": "display_data"
    }
   ],
   "source": [
    "library()"
   ]
  },
  {
   "cell_type": "code",
   "execution_count": 2,
   "metadata": {},
   "outputs": [
    {
     "ename": "ERROR",
     "evalue": "Error in library(scone): there is no package called 'scone'\n",
     "output_type": "error",
     "traceback": [
      "Error in library(scone): there is no package called 'scone'\nTraceback:\n",
      "1. library(scone)",
      "2. stop(txt, domain = NA)"
     ]
    }
   ],
   "source": [
    "library(scone)"
   ]
  },
  {
   "cell_type": "code",
   "execution_count": null,
   "metadata": {
    "collapsed": true
   },
   "outputs": [],
   "source": []
  }
 ],
 "metadata": {
  "kernelspec": {
   "display_name": "scone Comparing and ranking the performance of different normalization schemes for single-cell RNA-seq and other high-throughput analyses v1.1.2 r3.4.1",
   "language": "R",
   "name": "scone_r"
  },
  "language_info": {
   "codemirror_mode": "r",
   "file_extension": ".r",
   "mimetype": "text/x-r-source",
   "name": "R",
   "pygments_lexer": "r",
   "version": "3.4.1"
  }
 },
 "nbformat": 4,
 "nbformat_minor": 2
}
